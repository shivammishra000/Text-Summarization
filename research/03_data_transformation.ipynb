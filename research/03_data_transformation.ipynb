{
 "cells": [
  {
   "cell_type": "code",
   "execution_count": 1,
   "id": "e29c2779",
   "metadata": {},
   "outputs": [],
   "source": [
    "import os"
   ]
  },
  {
   "cell_type": "code",
   "execution_count": 2,
   "id": "68dcdd87",
   "metadata": {},
   "outputs": [
    {
     "data": {
      "text/plain": [
       "'e:\\\\Projects\\\\Text-Summarization\\\\research'"
      ]
     },
     "execution_count": 2,
     "metadata": {},
     "output_type": "execute_result"
    }
   ],
   "source": [
    "%pwd"
   ]
  },
  {
   "cell_type": "code",
   "execution_count": 3,
   "id": "fde2aaa3",
   "metadata": {},
   "outputs": [],
   "source": [
    "os.chdir(\"../\")"
   ]
  },
  {
   "cell_type": "code",
   "execution_count": 4,
   "id": "eb230460",
   "metadata": {},
   "outputs": [
    {
     "data": {
      "text/plain": [
       "'e:\\\\Projects\\\\Text-Summarization'"
      ]
     },
     "execution_count": 4,
     "metadata": {},
     "output_type": "execute_result"
    }
   ],
   "source": [
    "%pwd"
   ]
  },
  {
   "cell_type": "code",
   "execution_count": 5,
   "id": "bc786260",
   "metadata": {},
   "outputs": [],
   "source": [
    "from dataclasses import dataclass\n",
    "from pathlib import Path\n",
    "\n",
    "\n",
    "@dataclass(frozen=True)\n",
    "class DataTransformationConfig:\n",
    "    root_dir: Path\n",
    "    data_path: Path\n",
    "    tokenizer_name: str"
   ]
  },
  {
   "cell_type": "code",
   "execution_count": 7,
   "id": "7947e326",
   "metadata": {},
   "outputs": [],
   "source": [
    "from textSummarizer.constants import *\n",
    "from textSummarizer.utils.common import read_yaml, create_directories"
   ]
  },
  {
   "cell_type": "code",
   "execution_count": 8,
   "id": "25793468",
   "metadata": {},
   "outputs": [],
   "source": [
    "class ConfigurationManager:\n",
    "    def __init__(\n",
    "        self,\n",
    "        config_filepath = CONFIG_FILE_PATH,\n",
    "        params_filepath = PARAMS_FILE_PATH):\n",
    "\n",
    "        self.config = read_yaml(config_filepath)\n",
    "        self.params = read_yaml(params_filepath)\n",
    "\n",
    "        create_directories([self.config.artifacts_root])\n",
    "\n",
    "\n",
    "    \n",
    "    def get_data_transformation_config(self) -> DataTransformationConfig:\n",
    "        config = self.config.data_transformation\n",
    "\n",
    "        create_directories([config.root_dir])\n",
    "\n",
    "        data_transformation_config = DataTransformationConfig(\n",
    "            root_dir=config.root_dir,\n",
    "            data_path=config.data_path,\n",
    "            tokenizer_name = config.tokenizer_name\n",
    "        )\n",
    "\n",
    "        return data_transformation_config"
   ]
  },
  {
   "cell_type": "code",
   "execution_count": 9,
   "id": "7ff90af8",
   "metadata": {},
   "outputs": [
    {
     "name": "stderr",
     "output_type": "stream",
     "text": [
      "c:\\Users\\admin\\anaconda3\\envs\\summary\\lib\\site-packages\\tqdm\\auto.py:21: TqdmWarning: IProgress not found. Please update jupyter and ipywidgets. See https://ipywidgets.readthedocs.io/en/stable/user_install.html\n",
      "  from .autonotebook import tqdm as notebook_tqdm\n"
     ]
    }
   ],
   "source": [
    "import os\n",
    "from textSummarizer.logging import logger\n",
    "from transformers import AutoTokenizer\n",
    "from datasets import load_dataset, load_from_disk"
   ]
  },
  {
   "cell_type": "code",
   "execution_count": 10,
   "id": "dc29f7be",
   "metadata": {},
   "outputs": [],
   "source": [
    "class DataTransformation:\n",
    "    def __init__(self, config: DataTransformationConfig):\n",
    "        self.config = config\n",
    "        self.tokenizer = AutoTokenizer.from_pretrained(config.tokenizer_name)\n",
    "\n",
    "    def convert_examples_to_features(self, example_batch):\n",
    "        try:\n",
    "            input_encodings = self.tokenizer(\n",
    "                example_batch['dialogue'],\n",
    "                max_length=1024,\n",
    "                truncation=True,\n",
    "                padding=\"max_length\"\n",
    "            )\n",
    "\n",
    "            with self.tokenizer.as_target_tokenizer():\n",
    "                target_encodings = self.tokenizer(\n",
    "                    example_batch['summary'],\n",
    "                    max_length=128,\n",
    "                    truncation=True,\n",
    "                    padding=\"max_length\"\n",
    "                )\n",
    "\n",
    "            return {\n",
    "                'input_ids': input_encodings['input_ids'],\n",
    "                'attention_mask': input_encodings['attention_mask'],\n",
    "                'labels': target_encodings['input_ids']\n",
    "            }\n",
    "\n",
    "        except Exception as e:\n",
    "            logger.error(f\"Error while tokenizing batch: {e}\")\n",
    "            raise e\n",
    "\n",
    "    def convert(self):\n",
    "        try:\n",
    "            logger.info(f\"Loading dataset from: {self.config.data_path}\")\n",
    "            dataset_samsum = load_from_disk(self.config.data_path)\n",
    "\n",
    "            logger.info(\"Starting tokenization process...\")\n",
    "            dataset_samsum_pt = dataset_samsum.map(\n",
    "                self.convert_examples_to_features,\n",
    "                batched=True,\n",
    "                batch_size=16\n",
    "            )\n",
    "\n",
    "            save_path = os.path.join(self.config.root_dir, \"samsum_dataset\")\n",
    "            dataset_samsum_pt.save_to_disk(save_path)\n",
    "            logger.info(f\"Tokenized dataset saved successfully at: {save_path}\")\n",
    "\n",
    "        except Exception as e:\n",
    "            logger.error(f\"Error in data transformation: {e}\")\n",
    "            raise e\n"
   ]
  },
  {
   "cell_type": "code",
   "execution_count": 11,
   "id": "aeab61dc",
   "metadata": {},
   "outputs": [
    {
     "name": "stdout",
     "output_type": "stream",
     "text": [
      "YAML file loaded successfully: config\\config.yaml\n",
      "[2025-11-01 23:28:33,631: INFO: common: YAML file loaded successfully: config\\config.yaml]\n",
      "YAML file loaded successfully: params.yaml\n",
      "[2025-11-01 23:28:33,648: INFO: common: YAML file loaded successfully: params.yaml]\n",
      "Created directory at: artifacts\n",
      "[2025-11-01 23:28:33,654: INFO: common: Created directory at: artifacts]\n",
      "Created directory at: artifacts/data_transformation\n",
      "[2025-11-01 23:28:33,660: INFO: common: Created directory at: artifacts/data_transformation]\n",
      "Starting data transformation...\n",
      "Loading dataset from: artifacts/data_ingestion/samsum_dataset\n",
      "[2025-11-01 23:28:38,405: INFO: 995596329: Loading dataset from: artifacts/data_ingestion/samsum_dataset]\n",
      "Starting tokenization process...\n",
      "[2025-11-01 23:28:39,166: INFO: 995596329: Starting tokenization process...]\n"
     ]
    },
    {
     "name": "stderr",
     "output_type": "stream",
     "text": [
      "Map:   0%|          | 0/14732 [00:00<?, ? examples/s]c:\\Users\\admin\\anaconda3\\envs\\summary\\lib\\site-packages\\transformers\\tokenization_utils_base.py:4034: UserWarning: `as_target_tokenizer` is deprecated and will be removed in v5 of Transformers. You can tokenize your labels by using the argument `text_target` of the regular `__call__` method (either in the same call as your input texts if you use the same keyword arguments, or in a separate call.\n",
      "  warnings.warn(\n",
      "Map: 100%|██████████| 14732/14732 [00:22<00:00, 663.93 examples/s]\n",
      "Map: 100%|██████████| 819/819 [00:01<00:00, 649.98 examples/s]\n",
      "Map: 100%|██████████| 818/818 [00:01<00:00, 676.09 examples/s]\n",
      "Saving the dataset (1/1 shards): 100%|██████████| 14732/14732 [00:01<00:00, 11119.94 examples/s]\n",
      "Saving the dataset (1/1 shards): 100%|██████████| 819/819 [00:00<00:00, 11618.18 examples/s]\n",
      "Saving the dataset (1/1 shards): 100%|██████████| 818/818 [00:00<00:00, 10287.46 examples/s]"
     ]
    },
    {
     "name": "stdout",
     "output_type": "stream",
     "text": [
      "Tokenized dataset saved successfully at: artifacts/data_transformation\\samsum_dataset\n",
      "[2025-11-01 23:29:06,001: INFO: 995596329: Tokenized dataset saved successfully at: artifacts/data_transformation\\samsum_dataset]\n",
      "Data transformation completed successfully!\n"
     ]
    },
    {
     "name": "stderr",
     "output_type": "stream",
     "text": [
      "\n"
     ]
    }
   ],
   "source": [
    "try:\n",
    "    config = ConfigurationManager()\n",
    "    data_transformation_config = config.get_data_transformation_config()\n",
    "    data_transformation = DataTransformation(config=data_transformation_config)\n",
    "    \n",
    "    print(\"Starting data transformation...\")\n",
    "    data_transformation.convert()\n",
    "    print(\"Data transformation completed successfully!\")\n",
    "\n",
    "except Exception as e:\n",
    "    import traceback\n",
    "    print(\"Error during data transformation:\")\n",
    "    print(traceback.format_exc())\n"
   ]
  },
  {
   "cell_type": "code",
   "execution_count": null,
   "id": "1ca61df1",
   "metadata": {},
   "outputs": [],
   "source": []
  }
 ],
 "metadata": {
  "kernelspec": {
   "display_name": "summary",
   "language": "python",
   "name": "python3"
  },
  "language_info": {
   "codemirror_mode": {
    "name": "ipython",
    "version": 3
   },
   "file_extension": ".py",
   "mimetype": "text/x-python",
   "name": "python",
   "nbconvert_exporter": "python",
   "pygments_lexer": "ipython3",
   "version": "3.10.19"
  }
 },
 "nbformat": 4,
 "nbformat_minor": 5
}
