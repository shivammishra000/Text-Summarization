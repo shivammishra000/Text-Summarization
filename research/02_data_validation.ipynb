{
 "cells": [
  {
   "cell_type": "code",
   "execution_count": 1,
   "id": "e12dca1f",
   "metadata": {},
   "outputs": [],
   "source": [
    "import os"
   ]
  },
  {
   "cell_type": "code",
   "execution_count": 2,
   "id": "cec7b803",
   "metadata": {},
   "outputs": [
    {
     "data": {
      "text/plain": [
       "'e:\\\\Projects\\\\Text-Summarization\\\\research'"
      ]
     },
     "execution_count": 2,
     "metadata": {},
     "output_type": "execute_result"
    }
   ],
   "source": [
    "%pwd"
   ]
  },
  {
   "cell_type": "code",
   "execution_count": 3,
   "id": "7c42b332",
   "metadata": {},
   "outputs": [],
   "source": [
    "os.chdir(\"../\")"
   ]
  },
  {
   "cell_type": "code",
   "execution_count": 4,
   "id": "f0693584",
   "metadata": {},
   "outputs": [
    {
     "data": {
      "text/plain": [
       "'e:\\\\Projects\\\\Text-Summarization'"
      ]
     },
     "execution_count": 4,
     "metadata": {},
     "output_type": "execute_result"
    }
   ],
   "source": [
    "%pwd"
   ]
  },
  {
   "cell_type": "code",
   "execution_count": 5,
   "id": "f0580ed6",
   "metadata": {},
   "outputs": [],
   "source": [
    "from dataclasses import dataclass\n",
    "from pathlib import Path\n",
    "\n",
    "\n",
    "@dataclass(frozen=True)\n",
    "class DataValidationConfig:\n",
    "    root_dir: Path\n",
    "    STATUS_FILE: str\n",
    "    ALL_REQUIRED_FILES: list"
   ]
  },
  {
   "cell_type": "code",
   "execution_count": 6,
   "id": "da9796ae",
   "metadata": {},
   "outputs": [],
   "source": [
    "from textSummarizer.constants import *\n",
    "from textSummarizer.utils.common import read_yaml, create_directories"
   ]
  },
  {
   "cell_type": "code",
   "execution_count": 7,
   "id": "a9142f39",
   "metadata": {},
   "outputs": [],
   "source": [
    "class ConfigurationManager:\n",
    "    def __init__(\n",
    "        self,\n",
    "        config_filepath = CONFIG_FILE_PATH,\n",
    "        params_filepath = PARAMS_FILE_PATH):\n",
    "\n",
    "        self.config = read_yaml(config_filepath)\n",
    "        self.params = read_yaml(params_filepath)\n",
    "\n",
    "        create_directories([self.config.artifacts_root])\n",
    "\n",
    "\n",
    "    \n",
    "    def get_data_validation_config(self) -> DataValidationConfig:\n",
    "        config = self.config.data_validation\n",
    "\n",
    "        create_directories([config.root_dir])\n",
    "\n",
    "        data_validation_config = DataValidationConfig(\n",
    "            root_dir=config.root_dir,\n",
    "            STATUS_FILE=config.STATUS_FILE,\n",
    "            ALL_REQUIRED_FILES=config.ALL_REQUIRED_FILES,\n",
    "        )\n",
    "\n",
    "        return data_validation_config\n"
   ]
  },
  {
   "cell_type": "code",
   "execution_count": 8,
   "id": "2184f832",
   "metadata": {},
   "outputs": [],
   "source": [
    "import os\n",
    "from textSummarizer.logging import logger"
   ]
  },
  {
   "cell_type": "code",
   "execution_count": null,
   "id": "0b65f91a",
   "metadata": {},
   "outputs": [],
   "source": [
    "class DataValidation:\n",
    "    def __init__(self, config: DataValidationConfig):\n",
    "        self.config = config\n",
    "\n",
    "    def validate_all_files_exist(self) -> bool:\n",
    "        try:\n",
    "            # Path where data was extracted\n",
    "            data_path = os.path.join(\"artifacts\", \"data_ingestion\", \"samsum_dataset\")\n",
    "            \n",
    "            # List all files/folders in that directory\n",
    "            all_files = os.listdir(data_path)\n",
    "            logger.info(f\"Files found in dataset: {all_files}\")\n",
    "\n",
    "            # Find missing files\n",
    "            missing_files = [file for file in self.config.ALL_REQUIRED_FILES if file not in all_files]\n",
    "\n",
    "            # Determine validation status\n",
    "            validation_status = len(missing_files) == 0\n",
    "\n",
    "            # Write status to file\n",
    "            with open(self.config.STATUS_FILE, 'w') as f:\n",
    "                if validation_status:\n",
    "                    f.write(f\"Validation Status: SUCCESS \\nAll required files are present.\")\n",
    "                    logger.info(\"All required files are present.\")\n",
    "                else:\n",
    "                    f.write(f\"Validation Status: FAILED \\nMissing files: {missing_files}\")\n",
    "                    logger.error(f\"Missing files: {missing_files}\")\n",
    "\n",
    "            return validation_status\n",
    "\n",
    "        except Exception as e:\n",
    "            logger.exception(e)\n",
    "            raise e\n"
   ]
  },
  {
   "cell_type": "code",
   "execution_count": 12,
   "id": "31203846",
   "metadata": {},
   "outputs": [
    {
     "name": "stdout",
     "output_type": "stream",
     "text": [
      "YAML file loaded successfully: config\\config.yaml\n",
      "[2025-11-01 22:56:46,243: INFO: common: YAML file loaded successfully: config\\config.yaml]\n",
      "YAML file loaded successfully: params.yaml\n",
      "[2025-11-01 22:56:46,249: INFO: common: YAML file loaded successfully: params.yaml]\n",
      "Created directory at: artifacts\n",
      "[2025-11-01 22:56:46,253: INFO: common: Created directory at: artifacts]\n",
      "Created directory at: artifacts/data_validation\n",
      "[2025-11-01 22:56:46,259: INFO: common: Created directory at: artifacts/data_validation]\n",
      "Files found in dataset: ['dataset_dict.json', 'test', 'train', 'validation']\n",
      "[2025-11-01 22:56:46,259: INFO: 3771648450: Files found in dataset: ['dataset_dict.json', 'test', 'train', 'validation']]\n",
      "All required files are present.\n",
      "[2025-11-01 22:56:46,267: INFO: 3771648450: All required files are present.]\n"
     ]
    }
   ],
   "source": [
    "try:\n",
    "    config = ConfigurationManager()\n",
    "    data_validation_config = config.get_data_validation_config()\n",
    "    data_validation = DataValidation(config=data_validation_config)\n",
    "    data_validation.validate_all_files_exist()\n",
    "except Exception as e:\n",
    "    raise e\n"
   ]
  },
  {
   "cell_type": "code",
   "execution_count": null,
   "id": "ddee14a2",
   "metadata": {},
   "outputs": [],
   "source": []
  }
 ],
 "metadata": {
  "kernelspec": {
   "display_name": "summary",
   "language": "python",
   "name": "python3"
  },
  "language_info": {
   "codemirror_mode": {
    "name": "ipython",
    "version": 3
   },
   "file_extension": ".py",
   "mimetype": "text/x-python",
   "name": "python",
   "nbconvert_exporter": "python",
   "pygments_lexer": "ipython3",
   "version": "3.10.19"
  }
 },
 "nbformat": 4,
 "nbformat_minor": 5
}
